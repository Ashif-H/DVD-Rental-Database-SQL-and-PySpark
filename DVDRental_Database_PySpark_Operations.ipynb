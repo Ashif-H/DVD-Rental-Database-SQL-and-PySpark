{
  "nbformat": 4,
  "nbformat_minor": 0,
  "metadata": {
    "colab": {
      "provenance": []
    },
    "kernelspec": {
      "name": "python3",
      "display_name": "Python 3"
    },
    "language_info": {
      "name": "python"
    }
  },
  "cells": [
    {
      "cell_type": "code",
      "source": [
        "pip install pyspark"
      ],
      "metadata": {
        "colab": {
          "base_uri": "https://localhost:8080/"
        },
        "id": "x49wP1rZsNDW",
        "outputId": "5d9b86fa-ff13-49ae-e74f-aed88c060641"
      },
      "execution_count": null,
      "outputs": [
        {
          "output_type": "stream",
          "name": "stdout",
          "text": [
            "Collecting pyspark\n",
            "  Downloading pyspark-3.5.0.tar.gz (316.9 MB)\n",
            "\u001b[2K     \u001b[90m━━━━━━━━━━━━━━━━━━━━━━━━━━━━━━━━━━━━━━━━\u001b[0m \u001b[32m316.9/316.9 MB\u001b[0m \u001b[31m3.7 MB/s\u001b[0m eta \u001b[36m0:00:00\u001b[0m\n",
            "\u001b[?25h  Preparing metadata (setup.py) ... \u001b[?25l\u001b[?25hdone\n",
            "Requirement already satisfied: py4j==0.10.9.7 in /usr/local/lib/python3.10/dist-packages (from pyspark) (0.10.9.7)\n",
            "Building wheels for collected packages: pyspark\n",
            "  Building wheel for pyspark (setup.py) ... \u001b[?25l\u001b[?25hdone\n",
            "  Created wheel for pyspark: filename=pyspark-3.5.0-py2.py3-none-any.whl size=317425345 sha256=09e9de0b9200d0a4c52db19178dfa013a07f372b23bb2c3563b78b7ee4234e33\n",
            "  Stored in directory: /root/.cache/pip/wheels/41/4e/10/c2cf2467f71c678cfc8a6b9ac9241e5e44a01940da8fbb17fc\n",
            "Successfully built pyspark\n",
            "Installing collected packages: pyspark\n",
            "Successfully installed pyspark-3.5.0\n"
          ]
        }
      ]
    },
    {
      "cell_type": "markdown",
      "source": [
        "# **Importing necessary Libraries**"
      ],
      "metadata": {
        "id": "Na0625f7vUlq"
      }
    },
    {
      "cell_type": "code",
      "source": [
        "import pyspark\n",
        "from pyspark.sql import SparkSession\n",
        "from pyspark.sql import functions as F\n",
        "from pyspark.sql.window import Window\n",
        "from pyspark.sql.types import StructType, StructField, StringType, TimestampType\n",
        "from datetime import datetime"
      ],
      "metadata": {
        "id": "hJDPZoyuT9YI"
      },
      "execution_count": null,
      "outputs": []
    },
    {
      "cell_type": "markdown",
      "source": [
        "# **Creating a Spark Session**"
      ],
      "metadata": {
        "id": "_PFWAvGEvdGZ"
      }
    },
    {
      "cell_type": "code",
      "source": [
        "spark = SparkSession.builder.appName('PySpark-Operations').getOrCreate()"
      ],
      "metadata": {
        "id": "yXzH4ah_UibM"
      },
      "execution_count": null,
      "outputs": []
    },
    {
      "cell_type": "markdown",
      "source": [
        "# **Load the Data**"
      ],
      "metadata": {
        "id": "IkTa65BjvhnQ"
      }
    },
    {
      "cell_type": "code",
      "source": [
        "# Read CSV files into PySpark DataFrames\n",
        "actor_df = spark.read.csv('/content/drive/MyDrive/Datasets/dvdrental/actor.csv', header=True, inferSchema=True)\n",
        "address_df = spark.read.csv('/content/drive/MyDrive/Datasets/dvdrental/address.csv', header=True, inferSchema=True)\n",
        "category_df = spark.read.csv('/content/drive/MyDrive/Datasets/dvdrental/category.csv', header=True, inferSchema=True)\n",
        "city_df = spark.read.csv('/content/drive/MyDrive/Datasets/dvdrental/city.csv', header=True, inferSchema=True)\n",
        "country_df = spark.read.csv('/content/drive/MyDrive/Datasets/dvdrental/country.csv', header=True, inferSchema=True)\n",
        "customer_df = spark.read.csv('/content/drive/MyDrive/Datasets/dvdrental/customer.csv', header=True, inferSchema=True)\n",
        "film_df = spark.read.csv('/content/drive/MyDrive/Datasets/dvdrental/film.csv', header=True, inferSchema=True)\n",
        "film_actor_df = spark.read.csv('/content/drive/MyDrive/Datasets/dvdrental/film_actor.csv', header=True, inferSchema=True)\n",
        "film_category_df = spark.read.csv('/content/drive/MyDrive/Datasets/dvdrental/film_category.csv', header=True, inferSchema=True)\n",
        "inventory_df = spark.read.csv('/content/drive/MyDrive/Datasets/dvdrental/inventory.csv', header=True, inferSchema=True)\n",
        "language_df = spark.read.csv('/content/drive/MyDrive/Datasets/dvdrental/language.csv', header=True, inferSchema=True)\n",
        "payment_df = spark.read.csv('/content/drive/MyDrive/Datasets/dvdrental/payment.csv', header=True, inferSchema=True)\n",
        "rental_df = spark.read.csv('/content/drive/MyDrive/Datasets/dvdrental/rental.csv', header=True, inferSchema=True)\n",
        "staff_df = spark.read.csv('/content/drive/MyDrive/Datasets/dvdrental/staff.csv', header=True, inferSchema=True)\n",
        "store_df = spark.read.csv('/content/drive/MyDrive/Datasets/dvdrental/store.csv', header=True, inferSchema=True)"
      ],
      "metadata": {
        "id": "Zr-nCPSMUoET"
      },
      "execution_count": null,
      "outputs": []
    },
    {
      "cell_type": "markdown",
      "source": [
        "# **1. PySpark Operations:**\n",
        "Write SQL queries to perform the following operations:\n",
        "\n",
        "1) Select distinct values for key columns in each table.\n",
        "\n",
        "2) Join relevant tables to create a consolidated view.\n",
        "\n",
        "3) Calculate summary statistics for important columns.\n",
        "\n",
        "4) Filter and sort data based on specific conditions.\n"
      ],
      "metadata": {
        "id": "zpYsprSGnzH6"
      }
    },
    {
      "cell_type": "markdown",
      "source": [
        "# **1) Select distinct values for key columns in each dataframes**"
      ],
      "metadata": {
        "id": "98aCCiOZvO4T"
      }
    },
    {
      "cell_type": "code",
      "source": [
        "# Actor table\n",
        "actor_distinct = actor_df.select('actor_id', 'first_name', 'last_name').distinct()\n",
        "actor_distinct.show()"
      ],
      "metadata": {
        "colab": {
          "base_uri": "https://localhost:8080/"
        },
        "id": "icrbfrhcuqnc",
        "outputId": "8f31e186-b4d0-4de7-afc6-cded6de27b04"
      },
      "execution_count": null,
      "outputs": [
        {
          "output_type": "stream",
          "name": "stdout",
          "text": [
            "+--------+----------+------------+\n",
            "|actor_id|first_name|   last_name|\n",
            "+--------+----------+------------+\n",
            "|      52|    Carmen|        Hunt|\n",
            "|     164|  Humphrey|      Willis|\n",
            "|      22|     Elvis|        Marx|\n",
            "|      29|      Alec|       Wayne|\n",
            "|     115|  Harrison|        Bale|\n",
            "|      98|     Chris|     Bridges|\n",
            "|      16|      Fred|     Costner|\n",
            "|      21|   Kirsten|     Paltrow|\n",
            "|     166|      Nick|   Degeneres|\n",
            "|       5|    Johnny|Lollobrigida|\n",
            "|      39|    Goldie|       Brody|\n",
            "|      64|       Ray|   Johansson|\n",
            "|     190|    Audrey|      Bailey|\n",
            "|     161|    Harvey|        Hope|\n",
            "|       8|   Matthew|   Johansson|\n",
            "|      97|       Meg|       Hawke|\n",
            "|     101|     Susan|       Davis|\n",
            "|     124|  Scarlett|      Bening|\n",
            "|     183|   Russell|       Close|\n",
            "|      32|       Tim|     Hackman|\n",
            "+--------+----------+------------+\n",
            "only showing top 20 rows\n",
            "\n"
          ]
        }
      ]
    },
    {
      "cell_type": "code",
      "source": [
        "# Address table\n",
        "address_distinct = address_df.select('address_id', 'address', 'district', 'city_id').distinct()\n",
        "address_distinct.show()"
      ],
      "metadata": {
        "colab": {
          "base_uri": "https://localhost:8080/"
        },
        "id": "Da2c-DLMur_p",
        "outputId": "d32d257d-153c-4ff3-8000-14e10b7c80cc"
      },
      "execution_count": null,
      "outputs": [
        {
          "output_type": "stream",
          "name": "stdout",
          "text": [
            "+----------+--------------------+----------------+-------+\n",
            "|address_id|             address|        district|city_id|\n",
            "+----------+--------------------+----------------+-------+\n",
            "|       130|  1666 Qomsheh Drive|        So Paulo|    410|\n",
            "|       134|      758 Junan Lane|            Gois|    190|\n",
            "|       369|   817 Laredo Avenue|         Jalisco|    188|\n",
            "|        20|360 Toulouse Parkway|         England|    495|\n",
            "|       511|  1152 al-Qatif Lane|Kalimantan Barat|    412|\n",
            "|       424|1948 Bayugan Parkway|           Bihar|    264|\n",
            "|       585|      1208 Tama Loop|          Ninawa|    344|\n",
            "|       274| 920 Kumbakonam Loop|      California|    446|\n",
            "|       354|  953 Hodeida Street|Southern Tagalog|    221|\n",
            "|       464| 76 Kermanshah Manor|         Esfahan|    423|\n",
            "|       561| 1497 Fengshan Drive|   KwaZulu-Natal|    112|\n",
            "|        37|127 Purnea (Purni...|        Piemonte|     17|\n",
            "|       569| 1342 Abha Boulevard|        Bukarest|     95|\n",
            "|        45|   42 Brindisi Place|         Yerevan|    586|\n",
            "|        72|  57 Arlington Manor|  Madhya Pradesh|    475|\n",
            "|        98|   152 Kitwe Parkway|          Caraga|     82|\n",
            "|       325|1892 Nabereznyje ...|         Tutuila|    516|\n",
            "|       479|1854 Okara Boulevard|         Drenthe|    158|\n",
            "|        75| 492 Cam Ranh Street| Eastern Visayas|     61|\n",
            "|       170|710 San Felipe de...|        Lilongwe|    304|\n",
            "+----------+--------------------+----------------+-------+\n",
            "only showing top 20 rows\n",
            "\n"
          ]
        }
      ]
    },
    {
      "cell_type": "code",
      "source": [
        "# Category table\n",
        "category_distinct = category_df.select('category_id', 'name').distinct()\n",
        "category_distinct.show()"
      ],
      "metadata": {
        "colab": {
          "base_uri": "https://localhost:8080/"
        },
        "id": "eOE16gPEutjV",
        "outputId": "02845e9c-5d2f-45e9-cb71-b1c74f162d17"
      },
      "execution_count": null,
      "outputs": [
        {
          "output_type": "stream",
          "name": "stdout",
          "text": [
            "+-----------+-----------+\n",
            "|category_id|       name|\n",
            "+-----------+-----------+\n",
            "|         11|     Horror|\n",
            "|         14|     Sci-Fi|\n",
            "|          1|     Action|\n",
            "|          4|   Classics|\n",
            "|          3|   Children|\n",
            "|          6|Documentary|\n",
            "|          8|     Family|\n",
            "|          2|  Animation|\n",
            "|         10|      Games|\n",
            "|         15|     Sports|\n",
            "|          9|    Foreign|\n",
            "|          5|     Comedy|\n",
            "|          7|      Drama|\n",
            "|         13|        New|\n",
            "|         16|     Travel|\n",
            "|         12|      Music|\n",
            "+-----------+-----------+\n",
            "\n"
          ]
        }
      ]
    },
    {
      "cell_type": "code",
      "source": [
        "# City table\n",
        "city_distinct = city_df.select('city_id', 'city', 'country_id').distinct()\n",
        "city_distinct.show()"
      ],
      "metadata": {
        "colab": {
          "base_uri": "https://localhost:8080/"
        },
        "id": "T_ZC9SF0uuwI",
        "outputId": "400f35a4-9a2a-40a8-8be2-b86746feef06"
      },
      "execution_count": null,
      "outputs": [
        {
          "output_type": "stream",
          "name": "stdout",
          "text": [
            "+-------+-----------------+----------+\n",
            "|city_id|             city|country_id|\n",
            "+-------+-----------------+----------+\n",
            "|     39|           Atinsk|        80|\n",
            "|    239|           Jhansi|        44|\n",
            "|    273|       Klerksdorp|        85|\n",
            "|     47|           Baiyin|        23|\n",
            "|    289|         La Plata|         6|\n",
            "|    111| Charlotte Amalie|       106|\n",
            "|    140|           Dayton|       103|\n",
            "|    238|           Jelets|        80|\n",
            "|     25|   Angra dos Reis|        15|\n",
            "|    249|            Junan|        23|\n",
            "|    559|Uttarpara-Kotrung|        44|\n",
            "|    100|         Cam Ranh|       105|\n",
            "|    275|          Konotop|       100|\n",
            "|    325|         Mannheim|        38|\n",
            "|    375|            Okara|        72|\n",
            "|    431|        Rio Claro|        15|\n",
            "|    358|     Nakhon Sawan|        94|\n",
            "|    430|    Richmond Hill|        20|\n",
            "|     35|         Ashgabat|        98|\n",
            "|    115|         Chisinau|        61|\n",
            "+-------+-----------------+----------+\n",
            "only showing top 20 rows\n",
            "\n"
          ]
        }
      ]
    },
    {
      "cell_type": "code",
      "source": [
        "# Country table\n",
        "country_distinct = country_df.select('country_id', 'country').distinct()\n",
        "country_distinct.show()"
      ],
      "metadata": {
        "colab": {
          "base_uri": "https://localhost:8080/"
        },
        "id": "mzWec_pXuxUg",
        "outputId": "aafcc186-5631-4be5-93c0-3c91f535e589"
      },
      "execution_count": null,
      "outputs": [
        {
          "output_type": "stream",
          "name": "stdout",
          "text": [
            "+----------+--------------------+\n",
            "|country_id|             country|\n",
            "+----------+--------------------+\n",
            "|        13|             Belarus|\n",
            "|        20|              Canada|\n",
            "|        79|              Runion|\n",
            "|        69|             Nigeria|\n",
            "|        17|            Bulgaria|\n",
            "|       104|           Venezuela|\n",
            "|        37|              Gambia|\n",
            "|       108|          Yugoslavia|\n",
            "|        45|           Indonesia|\n",
            "|         5|            Anguilla|\n",
            "|        62|             Morocco|\n",
            "|        36|    French Polynesia|\n",
            "|        53|              Kuwait|\n",
            "|        51|           Kazakstan|\n",
            "|        41|Holy See (Vatican...|\n",
            "|        43|             Hungary|\n",
            "|        67|         Netherlands|\n",
            "|        68|         New Zealand|\n",
            "|        85|        South Africa|\n",
            "|         7|             Armenia|\n",
            "+----------+--------------------+\n",
            "only showing top 20 rows\n",
            "\n"
          ]
        }
      ]
    },
    {
      "cell_type": "code",
      "source": [
        "# Customer table\n",
        "customer_distinct = customer_df.select('customer_id', 'first_name', 'last_name').distinct()\n",
        "customer_distinct.show()"
      ],
      "metadata": {
        "colab": {
          "base_uri": "https://localhost:8080/"
        },
        "id": "ZPlo-F5tu2OU",
        "outputId": "e1fed4c7-103e-49d8-e6f3-3d7ee47abd83"
      },
      "execution_count": null,
      "outputs": [
        {
          "output_type": "stream",
          "name": "stdout",
          "text": [
            "+-----------+----------+---------+\n",
            "|customer_id|first_name|last_name|\n",
            "+-----------+----------+---------+\n",
            "|         94|     Norma| Gonzales|\n",
            "|        432|     Edwin|     Burk|\n",
            "|        529|      Erik|  Guillen|\n",
            "|        564|       Bob| Pfeiffer|\n",
            "|        232| Constance|     Reid|\n",
            "|        249|      Dora|   Medina|\n",
            "|        260|   Christy|   Vargas|\n",
            "|        492|    Lester|    Kraus|\n",
            "|        216|   Natalie|    Meyer|\n",
            "|        360|     Ralph| Madrigal|\n",
            "|        458|     Lloyd|     Dowd|\n",
            "|        591|      Kent|Arsenault|\n",
            "|        161| Geraldine|  Perkins|\n",
            "|        304|     David|    Royal|\n",
            "|        328|   Jeffrey|    Spear|\n",
            "|        375|     Aaron|    Selby|\n",
            "|        408|    Manuel|  Murrell|\n",
            "|        447|  Clifford|   Bowens|\n",
            "|        387|     Jesse|Schilling|\n",
            "|        574|    Julian|     Vest|\n",
            "+-----------+----------+---------+\n",
            "only showing top 20 rows\n",
            "\n"
          ]
        }
      ]
    },
    {
      "cell_type": "code",
      "source": [
        "# Film table\n",
        "film_distinct = film_df.select('film_id', 'title', 'release_year').distinct()\n",
        "film_distinct.show()"
      ],
      "metadata": {
        "colab": {
          "base_uri": "https://localhost:8080/"
        },
        "id": "0FDb2mjTu3gG",
        "outputId": "4e5f8a44-b79e-4a84-e44f-623bc57ed0cc"
      },
      "execution_count": null,
      "outputs": [
        {
          "output_type": "stream",
          "name": "stdout",
          "text": [
            "+-------+-------------------+------------+\n",
            "|film_id|              title|release_year|\n",
            "+-------+-------------------+------------+\n",
            "|    273|   Effect Gladiator|        2006|\n",
            "|    730|Ridgemont Submarine|        2006|\n",
            "|    766|      Savannah Town|        2006|\n",
            "|     38|      Ark Ridgemont|        2006|\n",
            "|    120|  Caribbean Liberty|        2006|\n",
            "|    170|    Command Darling|        2006|\n",
            "|    233|    Disciple Mother|        2006|\n",
            "|    379|       Greedy Roots|        2006|\n",
            "|    474|         Jade Bunch|        2006|\n",
            "|    595|         Moon Bunch|        2006|\n",
            "|    658|      Paris Weekend|        2006|\n",
            "|    679|     Pilot Hoosiers|        2006|\n",
            "|    781|        Seven Swarm|        2006|\n",
            "|     42| Artist Coldblooded|        2006|\n",
            "|    215|          Dawn Pond|        2006|\n",
            "|    364|    Godfather Diary|        2006|\n",
            "|     20|Amelie Hellfighters|        2006|\n",
            "|    147|     Chocolat Harry|        2006|\n",
            "|    246|Doubtfire Labyrinth|        2006|\n",
            "|    306|     Feathers Metal|        2006|\n",
            "+-------+-------------------+------------+\n",
            "only showing top 20 rows\n",
            "\n"
          ]
        }
      ]
    },
    {
      "cell_type": "code",
      "source": [
        "# Film Actor table\n",
        "film_actor_distinct = film_actor_df.select('film_id', 'actor_id').distinct()\n",
        "film_actor_distinct.show()"
      ],
      "metadata": {
        "colab": {
          "base_uri": "https://localhost:8080/"
        },
        "id": "Y4p7bbohu5Cx",
        "outputId": "a35cc9d2-dde2-444e-b527-6ae5a3f8fd9b"
      },
      "execution_count": null,
      "outputs": [
        {
          "output_type": "stream",
          "name": "stdout",
          "text": [
            "+-------+--------+\n",
            "|film_id|actor_id|\n",
            "+-------+--------+\n",
            "|    858|       4|\n",
            "|    179|       8|\n",
            "|    154|      13|\n",
            "|    427|      13|\n",
            "|    527|      20|\n",
            "|    977|      20|\n",
            "|    856|      23|\n",
            "|    336|      34|\n",
            "|    559|      48|\n",
            "|    571|      65|\n",
            "|    577|      65|\n",
            "|     32|      79|\n",
            "|    519|      83|\n",
            "|    522|      85|\n",
            "|    967|      99|\n",
            "|    759|     100|\n",
            "|    394|     104|\n",
            "|    894|     111|\n",
            "|    322|     113|\n",
            "|    910|     129|\n",
            "+-------+--------+\n",
            "only showing top 20 rows\n",
            "\n"
          ]
        }
      ]
    },
    {
      "cell_type": "code",
      "source": [
        "# Film Category table\n",
        "film_category_distinct = film_category_df.select('film_id', 'category_id').distinct()\n",
        "film_category_distinct.show()"
      ],
      "metadata": {
        "colab": {
          "base_uri": "https://localhost:8080/"
        },
        "id": "3QAVnMqAu69Z",
        "outputId": "3eb49c98-2c06-4d59-a3c0-13b18e456071"
      },
      "execution_count": null,
      "outputs": [
        {
          "output_type": "stream",
          "name": "stdout",
          "text": [
            "+-------+-----------+\n",
            "|film_id|category_id|\n",
            "+-------+-----------+\n",
            "|    247|          5|\n",
            "|    393|          6|\n",
            "|    688|          3|\n",
            "|    105|          1|\n",
            "|    181|         16|\n",
            "|    336|          6|\n",
            "|    542|          1|\n",
            "|    597|         10|\n",
            "|    665|         11|\n",
            "|    684|         10|\n",
            "|    902|         15|\n",
            "|    990|         11|\n",
            "|    713|          6|\n",
            "|    850|          1|\n",
            "|    901|          2|\n",
            "|    373|          3|\n",
            "|    411|         12|\n",
            "|    461|          2|\n",
            "|    584|          9|\n",
            "|    629|          6|\n",
            "+-------+-----------+\n",
            "only showing top 20 rows\n",
            "\n"
          ]
        }
      ]
    },
    {
      "cell_type": "code",
      "source": [
        "# Inventory table\n",
        "inventory_distinct = inventory_df.select('inventory_id', 'film_id', 'store_id').distinct()\n",
        "inventory_distinct.show()"
      ],
      "metadata": {
        "colab": {
          "base_uri": "https://localhost:8080/"
        },
        "id": "uo5DSehtu8ft",
        "outputId": "41730a30-91bb-4108-ca2e-e0f154fd2f37"
      },
      "execution_count": null,
      "outputs": [
        {
          "output_type": "stream",
          "name": "stdout",
          "text": [
            "+------------+-------+--------+\n",
            "|inventory_id|film_id|store_id|\n",
            "+------------+-------+--------+\n",
            "|        1033|    231|       2|\n",
            "|        1424|    311|       2|\n",
            "|        1758|    382|       1|\n",
            "|        2153|    465|       2|\n",
            "|        2575|    563|       2|\n",
            "|        2612|    573|       1|\n",
            "|        2719|    596|       2|\n",
            "|        2733|    599|       2|\n",
            "|        2955|    648|       1|\n",
            "|        3296|    725|       2|\n",
            "|        3371|    739|       2|\n",
            "|        3587|    784|       2|\n",
            "|        3675|    804|       1|\n",
            "|        4089|    891|       1|\n",
            "|        4213|    916|       1|\n",
            "|        4265|    928|       1|\n",
            "|        4581|   1000|       2|\n",
            "|         253|     57|       1|\n",
            "|         584|    127|       2|\n",
            "|         674|    147|       1|\n",
            "+------------+-------+--------+\n",
            "only showing top 20 rows\n",
            "\n"
          ]
        }
      ]
    },
    {
      "cell_type": "code",
      "source": [
        "# Language table\n",
        "language_distinct = language_df.select('language_id', 'name').distinct()\n",
        "language_distinct.show()"
      ],
      "metadata": {
        "colab": {
          "base_uri": "https://localhost:8080/"
        },
        "id": "rgJmmVWbvBME",
        "outputId": "ec3b1286-8e44-4ab6-8f0d-0e9a1de630b4"
      },
      "execution_count": null,
      "outputs": [
        {
          "output_type": "stream",
          "name": "stdout",
          "text": [
            "+-----------+--------------------+\n",
            "|language_id|                name|\n",
            "+-----------+--------------------+\n",
            "|          3|Japanese            |\n",
            "|          4|Mandarin            |\n",
            "|          6|German              |\n",
            "|          5|French              |\n",
            "|          2|Italian             |\n",
            "|          1|English             |\n",
            "+-----------+--------------------+\n",
            "\n"
          ]
        }
      ]
    },
    {
      "cell_type": "code",
      "source": [
        "# Payment table\n",
        "payment_distinct = payment_df.select('payment_id', 'customer_id').distinct()\n",
        "payment_distinct.show()"
      ],
      "metadata": {
        "colab": {
          "base_uri": "https://localhost:8080/"
        },
        "id": "qGf7sx7BvDLs",
        "outputId": "cbf053fd-9bb8-4172-a41a-ab178ffad8eb"
      },
      "execution_count": null,
      "outputs": [
        {
          "output_type": "stream",
          "name": "stdout",
          "text": [
            "+----------+-----------+\n",
            "|payment_id|customer_id|\n",
            "+----------+-----------+\n",
            "|     17598|        364|\n",
            "|     17685|        386|\n",
            "|     17904|        447|\n",
            "|     18213|        526|\n",
            "|     18258|        540|\n",
            "|     18367|        572|\n",
            "|     18583|         24|\n",
            "|     18630|         31|\n",
            "|     18649|         35|\n",
            "|     18675|         42|\n",
            "|     18749|         62|\n",
            "|     18850|         89|\n",
            "|     19091|        151|\n",
            "|     19553|        270|\n",
            "|     19565|        271|\n",
            "|     19569|        272|\n",
            "|     19622|        276|\n",
            "|     19700|        284|\n",
            "|     19732|        288|\n",
            "|     19798|        295|\n",
            "+----------+-----------+\n",
            "only showing top 20 rows\n",
            "\n"
          ]
        }
      ]
    },
    {
      "cell_type": "code",
      "source": [
        "# Rental table\n",
        "rental_distinct = rental_df.select('rental_id', 'rental_date', 'inventory_id', 'customer_id').distinct()\n",
        "rental_distinct.show()"
      ],
      "metadata": {
        "colab": {
          "base_uri": "https://localhost:8080/"
        },
        "id": "DH2JdeemvEXG",
        "outputId": "67edf5fc-4d33-4c9e-9cfb-7df01061e047"
      },
      "execution_count": null,
      "outputs": [
        {
          "output_type": "stream",
          "name": "stdout",
          "text": [
            "+---------+---------------+------------+-----------+\n",
            "|rental_id|    rental_date|inventory_id|customer_id|\n",
            "+---------+---------------+------------+-----------+\n",
            "|      531| 5/28/2005 5:23|        1113|        589|\n",
            "|     1535| 6/16/2005 0:52|        1096|        202|\n",
            "|     1614| 6/16/2005 6:58|          23|        489|\n",
            "|     2173| 6/18/2005 0:08|         995|         65|\n",
            "|     2255| 6/18/2005 5:21|          24|        410|\n",
            "|     2363|6/18/2005 13:33|        3497|          1|\n",
            "|     2457|6/18/2005 19:38|        1277|         91|\n",
            "|     2481|6/18/2005 21:08|         800|        322|\n",
            "|     2877| 6/20/2005 1:07|         485|        267|\n",
            "|     2984| 6/20/2005 8:43|        1819|        435|\n",
            "|     3129|6/20/2005 18:57|        1789|        495|\n",
            "|     3212| 6/21/2005 1:04|        4178|         21|\n",
            "|     3405|6/21/2005 15:58|        2344|        155|\n",
            "|     3570|  7/6/2005 3:23|        1300|        450|\n",
            "|     3574|  7/6/2005 3:36|        2799|        225|\n",
            "|     4320| 7/7/2005 17:51|        3437|        376|\n",
            "|     4360| 7/7/2005 19:31|        1811|         92|\n",
            "|     4444| 7/7/2005 23:07|         764|        529|\n",
            "|     4737| 7/8/2005 13:23|        4286|        116|\n",
            "|     4868| 7/8/2005 19:13|        1157|        307|\n",
            "+---------+---------------+------------+-----------+\n",
            "only showing top 20 rows\n",
            "\n"
          ]
        }
      ]
    },
    {
      "cell_type": "code",
      "source": [
        "# Staff table\n",
        "staff_distinct = staff_df.select('staff_id', 'first_name', 'last_name').distinct()\n",
        "staff_distinct.show()"
      ],
      "metadata": {
        "colab": {
          "base_uri": "https://localhost:8080/"
        },
        "id": "kioMVYNgvFzF",
        "outputId": "384e1c1f-6723-48e9-f3f1-fe7a4d0a3d1e"
      },
      "execution_count": null,
      "outputs": [
        {
          "output_type": "stream",
          "name": "stdout",
          "text": [
            "+--------+----------+---------+\n",
            "|staff_id|first_name|last_name|\n",
            "+--------+----------+---------+\n",
            "|       2|       Jon| Stephens|\n",
            "|       1|      Mike|  Hillyer|\n",
            "+--------+----------+---------+\n",
            "\n"
          ]
        }
      ]
    },
    {
      "cell_type": "code",
      "source": [
        "# Store table\n",
        "store_distinct = store_df.select('store_id', 'manager_staff_id', 'address_id').distinct()\n",
        "store_distinct.show()"
      ],
      "metadata": {
        "colab": {
          "base_uri": "https://localhost:8080/"
        },
        "id": "TBw3crsUuTy4",
        "outputId": "f93b57b0-fbab-42a2-c3ff-5e29d782730d"
      },
      "execution_count": null,
      "outputs": [
        {
          "output_type": "stream",
          "name": "stdout",
          "text": [
            "+--------+----------------+----------+\n",
            "|store_id|manager_staff_id|address_id|\n",
            "+--------+----------------+----------+\n",
            "|       2|               2|         2|\n",
            "|       1|               1|         1|\n",
            "+--------+----------------+----------+\n",
            "\n"
          ]
        }
      ]
    },
    {
      "cell_type": "markdown",
      "source": [
        "# **2) Join relevant tables to create a consolidated view.**"
      ],
      "metadata": {
        "id": "bbV1WsnFwsY9"
      }
    },
    {
      "cell_type": "code",
      "source": [
        "# Join the customer DataFrame with the rental DataFrame\n",
        "customer_rental_join = customer_df.join(rental_df, customer_df.customer_id == rental_df.customer_id, 'inner')\n",
        "\n",
        "# Select the columns for the new DataFrame\n",
        "customer_rental_view = customer_rental_join.select(\n",
        "    customer_df.customer_id.alias(\"customer_customer_id\"),\n",
        "    rental_df.customer_id.alias(\"rental_customer_id\"),\n",
        "    customer_df.first_name,\n",
        "    customer_df.last_name,\n",
        "    rental_df.rental_id,\n",
        "    rental_df.inventory_id\n",
        ")\n",
        "\n",
        "# Show the resulting DataFrame\n",
        "customer_rental_view.show()"
      ],
      "metadata": {
        "colab": {
          "base_uri": "https://localhost:8080/"
        },
        "id": "5_p0Rw80cdmz",
        "outputId": "50c4a810-8247-428e-d815-a91a789d1a2e"
      },
      "execution_count": null,
      "outputs": [
        {
          "output_type": "stream",
          "name": "stdout",
          "text": [
            "+--------------------+------------------+----------+-----------+---------+------------+\n",
            "|customer_customer_id|rental_customer_id|first_name|  last_name|rental_id|inventory_id|\n",
            "+--------------------+------------------+----------+-----------+---------+------------+\n",
            "|                 459|               459|     Tommy|    Collazo|        2|        1525|\n",
            "|                 408|               408|    Manuel|    Murrell|        3|        1711|\n",
            "|                 333|               333|    Andrew|      Purdy|        4|        2452|\n",
            "|                 222|               222|   Delores|     Hansen|        5|        2079|\n",
            "|                 549|               549|    Nelson|Christenson|        6|        2792|\n",
            "|                 269|               269| Cassandra|    Walters|        7|        3995|\n",
            "|                 239|               239|    Minnie|     Romero|        8|        2346|\n",
            "|                 126|               126|     Ellen|    Simpson|        9|        2580|\n",
            "|                 399|               399|     Danny|       Isom|       10|        1824|\n",
            "|                 142|               142|     April|      Burns|       11|        4443|\n",
            "|                 261|               261|    Deanna|       Byrd|       12|        1584|\n",
            "|                 334|               334|   Raymond|  Mcwhorter|       13|        2294|\n",
            "|                 446|               446|  Theodore|       Culp|       14|        2701|\n",
            "|                 319|               319|    Ronald|     Weiner|       15|        3049|\n",
            "|                 316|               316|    Steven|     Curley|       16|         389|\n",
            "|                 575|               575|     Isaac|    Oglesby|       17|         830|\n",
            "|                  19|                19|      Ruth|   Martinez|       18|        3376|\n",
            "|                 456|               456|    Ronnie|   Ricketts|       19|        1941|\n",
            "|                 185|               185|   Roberta|     Harper|       20|        3517|\n",
            "|                 388|               388|     Craig|    Morrell|       21|         146|\n",
            "+--------------------+------------------+----------+-----------+---------+------------+\n",
            "only showing top 20 rows\n",
            "\n"
          ]
        }
      ]
    },
    {
      "cell_type": "code",
      "source": [
        "# Join the actor DataFrame with the film_actor DataFrame\n",
        "actor_film_actor_join = actor_df.join(film_actor_df, actor_df.actor_id == film_actor_df.actor_id, 'left')\n",
        "\n",
        "# Select the columns for the new DataFrame\n",
        "actor_film_actor_view = actor_film_actor_join.select(\n",
        "    actor_df.actor_id.alias(\"actor_actor_id\"),\n",
        "    film_actor_df.actor_id.alias(\"film_actor_actor_id\"),\n",
        "    actor_df.first_name,\n",
        "    actor_df.last_name,\n",
        "    film_actor_df.film_id\n",
        ")\n",
        "\n",
        "# Show the resulting DataFrame\n",
        "actor_film_actor_view.show()"
      ],
      "metadata": {
        "colab": {
          "base_uri": "https://localhost:8080/"
        },
        "id": "5lLfL_tbdcs7",
        "outputId": "69235326-70f2-4c0c-fdcf-3be4312f0ff5"
      },
      "execution_count": null,
      "outputs": [
        {
          "output_type": "stream",
          "name": "stdout",
          "text": [
            "+--------------+-------------------+----------+---------+-------+\n",
            "|actor_actor_id|film_actor_actor_id|first_name|last_name|film_id|\n",
            "+--------------+-------------------+----------+---------+-------+\n",
            "|             1|                  1|  Penelope|  Guiness|    980|\n",
            "|             1|                  1|  Penelope|  Guiness|    970|\n",
            "|             1|                  1|  Penelope|  Guiness|    939|\n",
            "|             1|                  1|  Penelope|  Guiness|    832|\n",
            "|             1|                  1|  Penelope|  Guiness|    749|\n",
            "|             1|                  1|  Penelope|  Guiness|    635|\n",
            "|             1|                  1|  Penelope|  Guiness|    605|\n",
            "|             1|                  1|  Penelope|  Guiness|    509|\n",
            "|             1|                  1|  Penelope|  Guiness|    506|\n",
            "|             1|                  1|  Penelope|  Guiness|    499|\n",
            "|             1|                  1|  Penelope|  Guiness|    438|\n",
            "|             1|                  1|  Penelope|  Guiness|    361|\n",
            "|             1|                  1|  Penelope|  Guiness|    277|\n",
            "|             1|                  1|  Penelope|  Guiness|    166|\n",
            "|             1|                  1|  Penelope|  Guiness|    140|\n",
            "|             1|                  1|  Penelope|  Guiness|    106|\n",
            "|             1|                  1|  Penelope|  Guiness|     25|\n",
            "|             1|                  1|  Penelope|  Guiness|     23|\n",
            "|             1|                  1|  Penelope|  Guiness|      1|\n",
            "|             2|                  2|      Nick| Wahlberg|    958|\n",
            "+--------------+-------------------+----------+---------+-------+\n",
            "only showing top 20 rows\n",
            "\n"
          ]
        }
      ]
    },
    {
      "cell_type": "code",
      "source": [
        "# Join the language DataFrame with the film DataFrame\n",
        "language_film_join = language_df.join(film_df, language_df.language_id == film_df.language_id, 'right')\n",
        "\n",
        "# Select the columns for the new DataFrame\n",
        "language_film_view = language_film_join.select(\n",
        "    language_df.language_id.alias(\"language_language_id\"),\n",
        "    film_df.language_id.alias(\"film_language_id\"),\n",
        "    language_df.name,\n",
        "    film_df.film_id,\n",
        "    film_df.title,\n",
        "    film_df.release_year,\n",
        "    film_df.length,\n",
        "    film_df.rating\n",
        ")\n",
        "\n",
        "# Show the resulting DataFrame\n",
        "language_film_view.show()"
      ],
      "metadata": {
        "colab": {
          "base_uri": "https://localhost:8080/"
        },
        "id": "1vC9OvsIdjy1",
        "outputId": "0bd39a49-48a0-4a86-c967-106400879678"
      },
      "execution_count": null,
      "outputs": [
        {
          "output_type": "stream",
          "name": "stdout",
          "text": [
            "+--------------------+----------------+--------------------+-------+-----------------+------------+------+------+\n",
            "|language_language_id|film_language_id|                name|film_id|            title|release_year|length|rating|\n",
            "+--------------------+----------------+--------------------+-------+-----------------+------------+------+------+\n",
            "|                   1|               1|English             |    133|  Chamber Italian|        2006|   117| NC-17|\n",
            "|                   1|               1|English             |    384| Grosse Wonderful|        2006|    49|     R|\n",
            "|                   1|               1|English             |      8|  Airport Pollock|        2006|    54|     R|\n",
            "|                   1|               1|English             |     98|Bright Encounters|        2006|    73| PG-13|\n",
            "|                   1|               1|English             |      1| Academy Dinosaur|        2006|    86|    PG|\n",
            "|                   1|               1|English             |      2|   Ace Goldfinger|        2006|    48|     G|\n",
            "|                   1|               1|English             |      3| Adaptation Holes|        2006|    50| NC-17|\n",
            "|                   1|               1|English             |      4| Affair Prejudice|        2006|   117|     G|\n",
            "|                   1|               1|English             |      5|      African Egg|        2006|   130|     G|\n",
            "|                   1|               1|English             |      6|     Agent Truman|        2006|   169|    PG|\n",
            "|                   1|               1|English             |      7|  Airplane Sierra|        2006|    62| PG-13|\n",
            "|                   1|               1|English             |      9|    Alabama Devil|        2006|   114| PG-13|\n",
            "|                   1|               1|English             |     10| Aladdin Calendar|        2006|    63| NC-17|\n",
            "|                   1|               1|English             |     11|  Alamo Videotape|        2006|   126|     G|\n",
            "|                   1|               1|English             |     12|   Alaska Phantom|        2006|   136|    PG|\n",
            "|                   1|               1|English             |    213|       Date Speed|        2006|   104|     R|\n",
            "|                   1|               1|English             |     13|      Ali Forever|        2006|   150|    PG|\n",
            "|                   1|               1|English             |     14|   Alice Fantasia|        2006|    94| NC-17|\n",
            "|                   1|               1|English             |     15|     Alien Center|        2006|    46| NC-17|\n",
            "|                   1|               1|English             |     16|  Alley Evolution|        2006|   180| NC-17|\n",
            "+--------------------+----------------+--------------------+-------+-----------------+------------+------+------+\n",
            "only showing top 20 rows\n",
            "\n"
          ]
        }
      ]
    },
    {
      "cell_type": "code",
      "source": [
        "# Join the country DataFrame with the city DataFrame\n",
        "country_city_join = country_df.join(city_df, country_df.country_id == city_df.country_id, 'full_outer')\n",
        "\n",
        "# Select the columns for the new DataFrame\n",
        "country_city_view = country_city_join.select(\n",
        "    country_df.country_id.alias(\"country_country_id\"),\n",
        "    city_df.country_id.alias(\"city_country_id\"),\n",
        "    country_df.country,\n",
        "    city_df.city\n",
        ")\n",
        "\n",
        "# Show the resulting DataFrame\n",
        "country_city_view.show()"
      ],
      "metadata": {
        "colab": {
          "base_uri": "https://localhost:8080/"
        },
        "id": "JlQgo3CTdqTp",
        "outputId": "053f3642-b3c2-4eaf-fa56-249e41d4c579"
      },
      "execution_count": null,
      "outputs": [
        {
          "output_type": "stream",
          "name": "stdout",
          "text": [
            "+------------------+---------------+--------------+--------------------+\n",
            "|country_country_id|city_country_id|       country|                city|\n",
            "+------------------+---------------+--------------+--------------------+\n",
            "|                 1|              1|   Afghanistan|               Kabul|\n",
            "|                 2|              2|       Algeria|               Batna|\n",
            "|                 2|              2|       Algeria|               Bchar|\n",
            "|                 2|              2|       Algeria|              Skikda|\n",
            "|                 3|              3|American Samoa|              Tafuna|\n",
            "|                 4|              4|        Angola|            Benguela|\n",
            "|                 4|              4|        Angola|              Namibe|\n",
            "|                 5|              5|      Anguilla|          South Hill|\n",
            "|                 6|              6|     Argentina|     Almirante Brown|\n",
            "|                 6|              6|     Argentina|          Avellaneda|\n",
            "|                 6|              6|     Argentina|         Baha Blanca|\n",
            "|                 6|              6|     Argentina|              Crdoba|\n",
            "|                 6|              6|     Argentina|             Escobar|\n",
            "|                 6|              6|     Argentina|              Ezeiza|\n",
            "|                 6|              6|     Argentina|            La Plata|\n",
            "|                 6|              6|     Argentina|               Merlo|\n",
            "|                 6|              6|     Argentina|             Quilmes|\n",
            "|                 6|              6|     Argentina|San Miguel de Tucumn|\n",
            "|                 6|              6|     Argentina|             Santa F|\n",
            "|                 6|              6|     Argentina|              Tandil|\n",
            "+------------------+---------------+--------------+--------------------+\n",
            "only showing top 20 rows\n",
            "\n"
          ]
        }
      ]
    },
    {
      "cell_type": "markdown",
      "source": [
        "# **3) Calculate summary statistics for important columns.**"
      ],
      "metadata": {
        "id": "FK_OK6AheB11"
      }
    },
    {
      "cell_type": "code",
      "source": [
        "# Calculate the total number of films in the database\n",
        "total_films = film_df.count()\n",
        "print(\"Total number of films in the database:\", total_films)"
      ],
      "metadata": {
        "colab": {
          "base_uri": "https://localhost:8080/"
        },
        "id": "bdJ1n2k4eDkg",
        "outputId": "716e2c36-1bee-4ed5-8a17-bd08e8840210"
      },
      "execution_count": null,
      "outputs": [
        {
          "output_type": "stream",
          "name": "stdout",
          "text": [
            "Total number of films in the database: 1000\n"
          ]
        }
      ]
    },
    {
      "cell_type": "code",
      "source": [
        "# Calculate the average length of films\n",
        "average_length = film_df.agg({'length': 'avg'}).collect()[0][0]\n",
        "print(\"Average length of films:\", average_length)"
      ],
      "metadata": {
        "colab": {
          "base_uri": "https://localhost:8080/"
        },
        "id": "uo9CbTmOenkn",
        "outputId": "d20934e3-dfb4-4f43-f632-f1b91f2d0b2c"
      },
      "execution_count": null,
      "outputs": [
        {
          "output_type": "stream",
          "name": "stdout",
          "text": [
            "Average length of films: 115.272\n"
          ]
        }
      ]
    },
    {
      "cell_type": "code",
      "source": [
        "# Determine the number of active and inactive customers\n",
        "customer_count = customer_df.groupBy('active').count()\n",
        "customer_count.show()"
      ],
      "metadata": {
        "colab": {
          "base_uri": "https://localhost:8080/"
        },
        "id": "9lHg_YaLemTG",
        "outputId": "0f6fb7d4-3d54-4c21-82e2-64346c52d862"
      },
      "execution_count": null,
      "outputs": [
        {
          "output_type": "stream",
          "name": "stdout",
          "text": [
            "+------+-----+\n",
            "|active|count|\n",
            "+------+-----+\n",
            "|     1|  584|\n",
            "|     0|   15|\n",
            "+------+-----+\n",
            "\n"
          ]
        }
      ]
    },
    {
      "cell_type": "code",
      "source": [
        "# Determine the total number of films in each category\n",
        "film_count_per_category = film_category_df.join(category_df, film_category_df.category_id == category_df.category_id) \\\n",
        "                                           .groupBy(category_df.name.alias('category')) \\\n",
        "                                           .agg(F.count('film_id').alias('film_count')) \\\n",
        "                                           .orderBy('category')\n",
        "film_count_per_category.show()"
      ],
      "metadata": {
        "colab": {
          "base_uri": "https://localhost:8080/"
        },
        "id": "IaSrnx5jej8X",
        "outputId": "9cb5a010-cbb7-43c5-8819-1b094177c25d"
      },
      "execution_count": null,
      "outputs": [
        {
          "output_type": "stream",
          "name": "stdout",
          "text": [
            "+-----------+----------+\n",
            "|   category|film_count|\n",
            "+-----------+----------+\n",
            "|     Action|        64|\n",
            "|  Animation|        66|\n",
            "|   Children|        60|\n",
            "|   Classics|        57|\n",
            "|     Comedy|        58|\n",
            "|Documentary|        68|\n",
            "|      Drama|        62|\n",
            "|     Family|        69|\n",
            "|    Foreign|        73|\n",
            "|      Games|        61|\n",
            "|     Horror|        56|\n",
            "|      Music|        51|\n",
            "|        New|        63|\n",
            "|     Sci-Fi|        61|\n",
            "|     Sports|        74|\n",
            "|     Travel|        57|\n",
            "+-----------+----------+\n",
            "\n"
          ]
        }
      ]
    },
    {
      "cell_type": "code",
      "source": [
        "# Calculate the total revenue generated from each store\n",
        "total_revenue_per_store = store_df.join(staff_df, store_df.manager_staff_id == staff_df.staff_id) \\\n",
        "                                  .join(payment_df, staff_df.staff_id == payment_df.staff_id) \\\n",
        "                                  .groupBy(store_df[\"store_id\"]) \\\n",
        "                                  .agg({'amount': 'sum'}) \\\n",
        "                                  .withColumnRenamed('sum(amount)', 'total_revenue')\n",
        "total_revenue_per_store.show()"
      ],
      "metadata": {
        "colab": {
          "base_uri": "https://localhost:8080/"
        },
        "id": "BSZoNVJXejKQ",
        "outputId": "50987df7-4b8f-40e3-ce72-8333c7066e23"
      },
      "execution_count": null,
      "outputs": [
        {
          "output_type": "stream",
          "name": "stdout",
          "text": [
            "+--------+------------------+\n",
            "|store_id|     total_revenue|\n",
            "+--------+------------------+\n",
            "|       1|30252.120000004612|\n",
            "|       2|31059.920000004782|\n",
            "+--------+------------------+\n",
            "\n"
          ]
        }
      ]
    },
    {
      "cell_type": "markdown",
      "source": [
        "# **4) Filter and sort data based on specific conditions.**"
      ],
      "metadata": {
        "id": "CKlFyTQNfqPm"
      }
    },
    {
      "cell_type": "code",
      "source": [
        "# How many actors have 8 letters only in their first names.\n",
        "actors_with_8_letters = actor_df.filter(F.length(\"first_name\") == 8).count()\n",
        "print(\"Number of actors with 8 letters in their first names:\", actors_with_8_letters)"
      ],
      "metadata": {
        "colab": {
          "base_uri": "https://localhost:8080/"
        },
        "id": "WfFE8rr7fCU5",
        "outputId": "0a1b9094-25ab-4d6c-855b-20e723d08d89"
      },
      "execution_count": null,
      "outputs": [
        {
          "output_type": "stream",
          "name": "stdout",
          "text": [
            "Number of actors with 8 letters in their first names: 16\n"
          ]
        }
      ]
    },
    {
      "cell_type": "code",
      "source": [
        "# Count the number of actors whose first_names don't start with an 'A'.\n",
        "actors_without_A = actor_df.filter(~F.col(\"first_name\").startswith(\"A\")).count()\n",
        "print(\"Number of actors whose first names don't start with 'A':\", actors_without_A)"
      ],
      "metadata": {
        "colab": {
          "base_uri": "https://localhost:8080/"
        },
        "id": "RQbPImaugU7r",
        "outputId": "4a5404f0-a14c-42e5-8200-70673185875d"
      },
      "execution_count": null,
      "outputs": [
        {
          "output_type": "stream",
          "name": "stdout",
          "text": [
            "Number of actors whose first names don't start with 'A': 187\n"
          ]
        }
      ]
    },
    {
      "cell_type": "code",
      "source": [
        "# Find actor names that start with 'P' followed by any letter from 'a' to 'e' then any other letter.\n",
        "pattern = \"^P[a-e].*\"\n",
        "actors_matching_pattern = actor_df.filter(F.col(\"first_name\").rlike(pattern)).show()"
      ],
      "metadata": {
        "colab": {
          "base_uri": "https://localhost:8080/"
        },
        "id": "bXpM3tyogTKP",
        "outputId": "7fd801a1-3cc1-4cb9-e315-61c61e62776d"
      },
      "execution_count": null,
      "outputs": [
        {
          "output_type": "stream",
          "name": "stdout",
          "text": [
            "+--------+----------+---------+-----------+\n",
            "|actor_id|first_name|last_name|last_update|\n",
            "+--------+----------+---------+-----------+\n",
            "|       1|  Penelope|  Guiness|    47:57.6|\n",
            "|      46|    Parker| Goldberg|    47:57.6|\n",
            "|      54|  Penelope|  Pinkett|    47:57.6|\n",
            "|     104|  Penelope|   Cronyn|    47:57.6|\n",
            "|     120|  Penelope|   Monroe|    47:57.6|\n",
            "+--------+----------+---------+-----------+\n",
            "\n"
          ]
        }
      ]
    },
    {
      "cell_type": "code",
      "source": [
        "# Which movies have been rented so far.\n",
        "joined_df = rental_df.join(inventory_df, rental_df.inventory_id == inventory_df.inventory_id)\n",
        "distinct_film_ids = joined_df.select(\"film_id\").distinct()\n",
        "movies_rented_so_far = film_df.join(distinct_film_ids, film_df.film_id == distinct_film_ids.film_id).select(\"title\")\n",
        "movies_rented_so_far.show()"
      ],
      "metadata": {
        "colab": {
          "base_uri": "https://localhost:8080/"
        },
        "id": "M4kcfbp3gRxW",
        "outputId": "aef0f565-c40f-416d-c09d-e221cf72bbbf"
      },
      "execution_count": null,
      "outputs": [
        {
          "output_type": "stream",
          "name": "stdout",
          "text": [
            "+-------------------+\n",
            "|              title|\n",
            "+-------------------+\n",
            "|    Island Exorcist|\n",
            "|      Kick Savannah|\n",
            "|   Instinct Airport|\n",
            "|    Splendor Patton|\n",
            "|      Submarine Bed|\n",
            "|    Doors President|\n",
            "|       Lucky Flying|\n",
            "|   Newton Labyrinth|\n",
            "|       Torque Bound|\n",
            "|      Rock Instinct|\n",
            "|       Hall Cassidy|\n",
            "|      Apache Divine|\n",
            "|        Legend Jedi|\n",
            "|Dragonfly Strangers|\n",
            "|        Mine Titans|\n",
            "|     Charade Duffel|\n",
            "|         Igby Maker|\n",
            "|   Bonnie Holocaust|\n",
            "|         Sling Luke|\n",
            "|   Behavior Runaway|\n",
            "+-------------------+\n",
            "only showing top 20 rows\n",
            "\n"
          ]
        }
      ]
    },
    {
      "cell_type": "code",
      "source": [
        "# Display the names of the actors that acted in more than 20 movies.\n",
        "actors_more_than_20_movies = (film_actor_df\n",
        "    .join(actor_df, film_actor_df.actor_id == actor_df.actor_id)\n",
        "    .groupBy(\"first_name\", \"last_name\")\n",
        "    .agg(F.count(\"film_id\").alias(\"movie_count\"))\n",
        "    .filter(\"movie_count > 20\")\n",
        "    .orderBy(F.asc(\"movie_count\"))\n",
        ")\n",
        "actors_more_than_20_movies.show()"
      ],
      "metadata": {
        "colab": {
          "base_uri": "https://localhost:8080/"
        },
        "id": "lFk7-LZlgQaT",
        "outputId": "08a9d14a-eeb6-472c-a33f-fc3a63116ce0"
      },
      "execution_count": null,
      "outputs": [
        {
          "output_type": "stream",
          "name": "stdout",
          "text": [
            "+-----------+-----------+-----------+\n",
            "| first_name|  last_name|movie_count|\n",
            "+-----------+-----------+-----------+\n",
            "|Christopher|       West|         21|\n",
            "|    Kenneth|    Paltrow|         21|\n",
            "|      Kevin|      Bloom|         21|\n",
            "|    Spencer|       Peck|         21|\n",
            "|        Dan|       Torn|         22|\n",
            "|         Ed|      Chase|         22|\n",
            "|       Adam|     Hopper|         22|\n",
            "|      Meryl|      Allen|         22|\n",
            "|  Christian|      Gable|         22|\n",
            "|       Gene|    Hopkins|         22|\n",
            "|   Jennifer|      Davis|         22|\n",
            "|  Sylvester|       Dern|         22|\n",
            "|        Fay|       Wood|         22|\n",
            "|       Nick|  Degeneres|         22|\n",
            "|       Burt|     Temple|         23|\n",
            "|   Michelle|Mcconaughey|         23|\n",
            "|    Jessica|     Bailey|         23|\n",
            "|       Lisa|     Monroe|         23|\n",
            "|        Ben|     Harris|         23|\n",
            "|        Tim|    Hackman|         23|\n",
            "+-----------+-----------+-----------+\n",
            "only showing top 20 rows\n",
            "\n"
          ]
        }
      ]
    },
    {
      "cell_type": "markdown",
      "source": [
        "# **Question Set:**\n",
        "Formulate 15 questions based on the dataset, ranging from easy to difficult.\n",
        "\n",
        "Questions:\n",
        "\n",
        "1) Retrieve all the distinct country names from the country table.\n",
        "\n",
        "2) List the titles of films along with their categories.\n",
        "\n",
        "3) Calculate the maximum length of films in the database.\n",
        "\n",
        "4) Retrieve all the rental records where the return date is null.\n",
        "\n",
        "5) What are the addresses of each store?\n",
        "\n",
        "6) Count the number of films in each category, but only for categories with more than 10 films.\n",
        "\n",
        "7) What is the name of the customer who lives in the city 'Apeldoorn'?\n",
        "\n",
        "8) Update the email of the staff member with ID 101 to 'newemail@example.com'.\n",
        "\n",
        "9) Write a query to create a count of movies in each of the 4 filmlen_groups:\n",
        "1 hour or less\n",
        "Between 1-2 hours\n",
        "Between 2-3 hours\n",
        "More than 3 hours\n",
        "\n",
        "10) Select the titles of the movies that have the highest replacement cost.\n",
        "\n",
        "11) Insert a new category named 'Documentary' into the category table.\n",
        "\n",
        "12) Combine first_name and last_name from the customer table to become full_name.\n",
        "\n",
        "13) Show how many inventory items are available at each store.\n",
        "\n",
        "14) What is the total amount paid by each customer for all their rentals? For each customer, print their name and the total amount paid.\n",
        "\n",
        "15) What payments have amounts between 3 USD and 5 USD?"
      ],
      "metadata": {
        "id": "bkMU248iPU2P"
      }
    },
    {
      "cell_type": "markdown",
      "source": [
        "# **Implement PySpark code to answer the set of 15 questions.**"
      ],
      "metadata": {
        "id": "9AcWqdlXM8vp"
      }
    },
    {
      "cell_type": "code",
      "source": [
        "# 1. Retrieve all the distinct country names from the country table.\n",
        "distinct_countries = country_df.select('country').distinct()\n",
        "distinct_countries.show()"
      ],
      "metadata": {
        "colab": {
          "base_uri": "https://localhost:8080/"
        },
        "id": "IUSmQf7RTmcU",
        "outputId": "458a76f1-fe3d-4204-ef39-4c6db4b5f707"
      },
      "execution_count": null,
      "outputs": [
        {
          "output_type": "stream",
          "name": "stdout",
          "text": [
            "+--------------------+\n",
            "|             country|\n",
            "+--------------------+\n",
            "|                Chad|\n",
            "|            Anguilla|\n",
            "|            Paraguay|\n",
            "|               Yemen|\n",
            "|             Senegal|\n",
            "|              Sweden|\n",
            "|         Philippines|\n",
            "|               Tonga|\n",
            "|            Malaysia|\n",
            "|              Turkey|\n",
            "|              Malawi|\n",
            "|                Iraq|\n",
            "|             Germany|\n",
            "|         Afghanistan|\n",
            "|            Cambodia|\n",
            "|               Sudan|\n",
            "|              France|\n",
            "|              Greece|\n",
            "|Holy See (Vatican...|\n",
            "|           Sri Lanka|\n",
            "+--------------------+\n",
            "only showing top 20 rows\n",
            "\n"
          ]
        }
      ]
    },
    {
      "cell_type": "code",
      "source": [
        "# 2. List the titles of films along with their categories.\n",
        "film_category_join = film_df.join(film_category_df, film_df.film_id == film_category_df.film_id)\\\n",
        "                     .join(category_df, film_category_df.category_id == category_df.category_id)\n",
        "film_category_join.select('title', F.col('name').alias('categories')).orderBy('title').show()"
      ],
      "metadata": {
        "colab": {
          "base_uri": "https://localhost:8080/"
        },
        "id": "Ti_OA9PeTrUz",
        "outputId": "cae85c22-7450-4898-8d6f-57d1da905476"
      },
      "execution_count": null,
      "outputs": [
        {
          "output_type": "stream",
          "name": "stdout",
          "text": [
            "+-------------------+-----------+\n",
            "|              title| categories|\n",
            "+-------------------+-----------+\n",
            "|   Academy Dinosaur|Documentary|\n",
            "|     Ace Goldfinger|     Horror|\n",
            "|   Adaptation Holes|Documentary|\n",
            "|   Affair Prejudice|     Horror|\n",
            "|        African Egg|     Family|\n",
            "|       Agent Truman|    Foreign|\n",
            "|    Airplane Sierra|     Comedy|\n",
            "|    Airport Pollock|     Horror|\n",
            "|      Alabama Devil|     Horror|\n",
            "|   Aladdin Calendar|     Sports|\n",
            "|    Alamo Videotape|    Foreign|\n",
            "|     Alaska Phantom|      Music|\n",
            "|        Ali Forever|     Horror|\n",
            "|     Alice Fantasia|   Classics|\n",
            "|       Alien Center|    Foreign|\n",
            "|    Alley Evolution|    Foreign|\n",
            "|         Alone Trip|      Music|\n",
            "|      Alter Victory|  Animation|\n",
            "|       Amadeus Holy|     Action|\n",
            "|Amelie Hellfighters|      Music|\n",
            "+-------------------+-----------+\n",
            "only showing top 20 rows\n",
            "\n"
          ]
        }
      ]
    },
    {
      "cell_type": "code",
      "source": [
        "# 3. Calculate the maximum length of films in the database.\n",
        "max_length = film_df.select(F.max('length').alias('maximum_length_of_films'))\n",
        "max_length.show()"
      ],
      "metadata": {
        "colab": {
          "base_uri": "https://localhost:8080/"
        },
        "id": "y58OBXGCUucX",
        "outputId": "c55557a6-478c-4f3e-e9bc-fd2fff3757eb"
      },
      "execution_count": null,
      "outputs": [
        {
          "output_type": "stream",
          "name": "stdout",
          "text": [
            "+-----------------------+\n",
            "|maximum_length_of_films|\n",
            "+-----------------------+\n",
            "|                    185|\n",
            "+-----------------------+\n",
            "\n"
          ]
        }
      ]
    },
    {
      "cell_type": "code",
      "source": [
        "# 4. Retrieve all the rental records where the return date is null.\n",
        "rental_df.filter(rental_df.return_date.isNull()).show()"
      ],
      "metadata": {
        "colab": {
          "base_uri": "https://localhost:8080/"
        },
        "id": "SApJysH_UyIJ",
        "outputId": "e120be8e-2554-460e-e5b3-58c364eb137f"
      },
      "execution_count": null,
      "outputs": [
        {
          "output_type": "stream",
          "name": "stdout",
          "text": [
            "+---------+---------------+------------+-----------+-----------+--------+--------------+\n",
            "|rental_id|    rental_date|inventory_id|customer_id|return_date|staff_id|   last_update|\n",
            "+---------+---------------+------------+-----------+-----------+--------+--------------+\n",
            "|    11496|2/14/2006 15:16|        2047|        155|       NULL|       1|2/16/2006 2:30|\n",
            "|    11541|2/14/2006 15:16|        2026|        335|       NULL|       1|2/16/2006 2:30|\n",
            "|    12101|2/14/2006 15:16|        1556|        479|       NULL|       1|2/16/2006 2:30|\n",
            "|    11563|2/14/2006 15:16|        1545|         83|       NULL|       1|2/16/2006 2:30|\n",
            "|    11577|2/14/2006 15:16|        4106|        219|       NULL|       2|2/16/2006 2:30|\n",
            "|    11593|2/14/2006 15:16|         817|         99|       NULL|       1|2/16/2006 2:30|\n",
            "|    11611|2/14/2006 15:16|        1857|        192|       NULL|       2|2/16/2006 2:30|\n",
            "|    11646|2/14/2006 15:16|         478|         11|       NULL|       2|2/16/2006 2:30|\n",
            "|    11652|2/14/2006 15:16|        1622|        597|       NULL|       2|2/16/2006 2:30|\n",
            "|    11657|2/14/2006 15:16|        3043|         53|       NULL|       2|2/16/2006 2:30|\n",
            "|    13719|2/14/2006 15:16|        3547|        208|       NULL|       1|2/16/2006 2:30|\n",
            "|    11672|2/14/2006 15:16|        3947|        521|       NULL|       2|2/16/2006 2:30|\n",
            "|    11676|2/14/2006 15:16|        4496|        216|       NULL|       2|2/16/2006 2:30|\n",
            "|    11709|2/14/2006 15:16|        1720|        330|       NULL|       1|2/16/2006 2:30|\n",
            "|    11739|2/14/2006 15:16|        4568|        373|       NULL|       2|2/16/2006 2:30|\n",
            "|    11754|2/14/2006 15:16|        3747|        163|       NULL|       2|2/16/2006 2:30|\n",
            "|    11757|2/14/2006 15:16|        1295|        550|       NULL|       2|2/16/2006 2:30|\n",
            "|    11782|2/14/2006 15:16|        4098|        354|       NULL|       1|2/16/2006 2:30|\n",
            "|    11847|2/14/2006 15:16|        1784|        337|       NULL|       1|2/16/2006 2:30|\n",
            "|    11848|2/14/2006 15:16|        3680|        152|       NULL|       1|2/16/2006 2:30|\n",
            "+---------+---------------+------------+-----------+-----------+--------+--------------+\n",
            "only showing top 20 rows\n",
            "\n"
          ]
        }
      ]
    },
    {
      "cell_type": "code",
      "source": [
        "# 5. What are the addresses of each store?\n",
        "store_address_join = store_df.join(address_df, store_df.address_id == address_df.address_id)\n",
        "store_address_join.select('store_id', 'address', 'address2').show()"
      ],
      "metadata": {
        "colab": {
          "base_uri": "https://localhost:8080/"
        },
        "id": "LkpvBdWcU2TJ",
        "outputId": "6953f84b-2694-4579-896f-83e0f8653230"
      },
      "execution_count": null,
      "outputs": [
        {
          "output_type": "stream",
          "name": "stdout",
          "text": [
            "+--------+------------------+--------+\n",
            "|store_id|           address|address2|\n",
            "+--------+------------------+--------+\n",
            "|       1| 47 MySakila Drive|    NULL|\n",
            "|       2|28 MySQL Boulevard|    NULL|\n",
            "+--------+------------------+--------+\n",
            "\n"
          ]
        }
      ]
    },
    {
      "cell_type": "code",
      "source": [
        "# 6. Count the number of films in each category, but only for categories with more than 10 films.\n",
        "film_category_count = film_category_df.groupBy('category_id').count()\n",
        "film_category_count_filtered = film_category_count.filter(film_category_count['count'] > 10)\n",
        "\n",
        "film_category_count_filtered = film_category_count_filtered.join(category_df,\n",
        "                                                                 'category_id',\n",
        "                                                                 'inner') \\\n",
        "    .select(F.col('name').alias('category'), 'count') \\\n",
        "    .orderBy('count')\n",
        "\n",
        "film_category_count_filtered.show()"
      ],
      "metadata": {
        "colab": {
          "base_uri": "https://localhost:8080/"
        },
        "id": "SS1XiBxIVZXJ",
        "outputId": "5472711e-45ce-4844-f805-e1c475bd5c4f"
      },
      "execution_count": null,
      "outputs": [
        {
          "output_type": "stream",
          "name": "stdout",
          "text": [
            "+-----------+-----+\n",
            "|   category|count|\n",
            "+-----------+-----+\n",
            "|      Music|   51|\n",
            "|     Horror|   56|\n",
            "|     Travel|   57|\n",
            "|   Classics|   57|\n",
            "|     Comedy|   58|\n",
            "|   Children|   60|\n",
            "|      Games|   61|\n",
            "|     Sci-Fi|   61|\n",
            "|      Drama|   62|\n",
            "|        New|   63|\n",
            "|     Action|   64|\n",
            "|  Animation|   66|\n",
            "|Documentary|   68|\n",
            "|     Family|   69|\n",
            "|    Foreign|   73|\n",
            "|     Sports|   74|\n",
            "+-----------+-----+\n",
            "\n"
          ]
        }
      ]
    },
    {
      "cell_type": "code",
      "source": [
        "# 7. What is the name of the customer who lives in the city 'Apeldoorn'?\n",
        "customer_city_join = customer_df.join(address_df, customer_df.address_id == address_df.address_id)\\\n",
        "                                      .join(city_df, address_df.city_id == city_df.city_id)\n",
        "customer_city_join.filter(city_df.city == 'Apeldoorn').select('first_name', 'last_name').show()"
      ],
      "metadata": {
        "colab": {
          "base_uri": "https://localhost:8080/"
        },
        "id": "IhdsWFyxVtwG",
        "outputId": "db485189-5154-421b-8b5d-473ce8e8a832"
      },
      "execution_count": null,
      "outputs": [
        {
          "output_type": "stream",
          "name": "stdout",
          "text": [
            "+----------+---------+\n",
            "|first_name|last_name|\n",
            "+----------+---------+\n",
            "|    Rhonda|  Kennedy|\n",
            "+----------+---------+\n",
            "\n"
          ]
        }
      ]
    },
    {
      "cell_type": "code",
      "source": [
        "# 8. Update the email of the staff member with ID 101 to 'newemail@example.com'.\n",
        "staff_df_upd = staff_df.withColumn('email', F.when(staff_df.staff_id == 1, 'newemail@example.com').otherwise(staff_df.email))\n",
        "staff_df_upd.select('staff_id', 'email').show()"
      ],
      "metadata": {
        "colab": {
          "base_uri": "https://localhost:8080/"
        },
        "id": "I-aHJnjKV_Xd",
        "outputId": "85081d30-6e56-4754-dd19-4f093717475a"
      },
      "execution_count": null,
      "outputs": [
        {
          "output_type": "stream",
          "name": "stdout",
          "text": [
            "+--------+--------------------+\n",
            "|staff_id|               email|\n",
            "+--------+--------------------+\n",
            "|       1|newemail@example.com|\n",
            "|       2|Jon.Stephens@saki...|\n",
            "+--------+--------------------+\n",
            "\n"
          ]
        }
      ]
    },
    {
      "cell_type": "code",
      "source": [
        "\"\"\"\n",
        "9. Write a query you to create a count of movies in each of the 4 filmlen_groups:\n",
        "1 hour or less, Between 1-2 hours, Between 2-3 hours, More than 3 hours.\n",
        "\n",
        "filmlen_groups\t\tfilmcount_bylencat\n",
        "1 hour or less\t\t\t104\n",
        "Between 1-2 hours\t\t439\n",
        "Between 2-3 hours\t\t418\n",
        "More than 3 hours\t\t39\n",
        "\n",
        "\"\"\"\n",
        "\n",
        "# Define the film length groups using when and otherwise functions\n",
        "film_df = film_df.withColumn(\"filmlen_groups\",\n",
        "                             F.when(F.col(\"length\") <= 60, \"1 hour or less\")\n",
        "                             .when((F.col(\"length\") > 60) & (F.col(\"length\") <= 120), \"Between 1-2 hours\")\n",
        "                             .when((F.col(\"length\") > 120) & (F.col(\"length\") <= 180), \"Between 2-3 hours\")\n",
        "                             .otherwise(\"More than 3 hours\"))\n",
        "\n",
        "# Calculate the count of films in each length category\n",
        "film_count_by_length = film_df \\\n",
        "    .groupBy(\"filmlen_groups\") \\\n",
        "    .agg(F.count(\"title\").alias(\"filmcount_bylencat\")) \\\n",
        "    .orderBy(\"filmlen_groups\")\n",
        "\n",
        "# Show the results with the specified format\n",
        "film_count_by_length \\\n",
        "    .select(F.col(\"filmlen_groups\").alias(\"filmlen_groups\"),\n",
        "            F.col(\"filmcount_bylencat\").alias(\"filmcount_bylencat\")).show()"
      ],
      "metadata": {
        "colab": {
          "base_uri": "https://localhost:8080/"
        },
        "id": "knVaHYqvXANE",
        "outputId": "0b84a8e0-9ce2-4de4-90ca-cf19248636db"
      },
      "execution_count": null,
      "outputs": [
        {
          "output_type": "stream",
          "name": "stdout",
          "text": [
            "+-----------------+------------------+\n",
            "|   filmlen_groups|filmcount_bylencat|\n",
            "+-----------------+------------------+\n",
            "|   1 hour or less|               104|\n",
            "|Between 1-2 hours|               439|\n",
            "|Between 2-3 hours|               418|\n",
            "|More than 3 hours|                39|\n",
            "+-----------------+------------------+\n",
            "\n"
          ]
        }
      ]
    },
    {
      "cell_type": "code",
      "source": [
        "# 10. Select the titles of the movies that have the highest replacement cost.\n",
        "max_replacement_cost = film_df.agg({\"replacement_cost\": \"max\"}).collect()[0][0]\n",
        "highest_replacement_cost_films = film_df.filter(film_df.replacement_cost == max_replacement_cost)\n",
        "\n",
        "titles_highest_replacement_cost = highest_replacement_cost_films.select(\"title\", \"replacement_cost\")\n",
        "titles_highest_replacement_cost.show()"
      ],
      "metadata": {
        "colab": {
          "base_uri": "https://localhost:8080/"
        },
        "id": "rZQ_W7R6W-sW",
        "outputId": "f2565fb2-1bce-4c7b-d956-176a08072f3a"
      },
      "execution_count": null,
      "outputs": [
        {
          "output_type": "stream",
          "name": "stdout",
          "text": [
            "+--------------------+----------------+\n",
            "|               title|replacement_cost|\n",
            "+--------------------+----------------+\n",
            "|        Arabia Dogma|           29.99|\n",
            "|Ballroom Mockingbird|           29.99|\n",
            "|       Blindness Gun|           29.99|\n",
            "|    Bonnie Holocaust|           29.99|\n",
            "| Chariots Conspiracy|           29.99|\n",
            "|  Clockwork Paradise|           29.99|\n",
            "|        Clyde Theory|           29.99|\n",
            "|  Cruelty Unforgiven|           29.99|\n",
            "|    Cupboard Sinners|           29.99|\n",
            "|Desperate Trainsp...|           29.99|\n",
            "|           Dirty Ace|           29.99|\n",
            "|        Doctor Grail|           29.99|\n",
            "|        Earth Vision|           29.99|\n",
            "|      Everyone Craft|           29.99|\n",
            "|Extraordinary Con...|           29.99|\n",
            "|       Fantasia Park|           29.99|\n",
            "|        Feud Frogmen|           29.99|\n",
            "|   Flatliners Killer|           29.99|\n",
            "|       Floats Garden|           29.99|\n",
            "|      Gilmore Boiled|           29.99|\n",
            "+--------------------+----------------+\n",
            "only showing top 20 rows\n",
            "\n"
          ]
        }
      ]
    },
    {
      "cell_type": "code",
      "source": [
        "# 11. Insert a new category named 'Documentary' into the category table.\n",
        "\n",
        "# Define the schema for the new DataFrame\n",
        "schema = StructType([\n",
        "    StructField(\"category_id\", StringType(), nullable=True),\n",
        "    StructField(\"name\", StringType(), nullable=False),\n",
        "    StructField(\"last_update\", TimestampType(), nullable=False)\n",
        "])\n",
        "\n",
        "# Create a new DataFrame with the 'Documentary' category\n",
        "new_category_df = spark.createDataFrame([(None, 'Documentary', datetime.now())], schema)\n",
        "\n",
        "# Union the new DataFrame with the existing category DataFrame\n",
        "category_df_upd = category_df.union(new_category_df)\n",
        "\n",
        "# Show the updated DataFrame\n",
        "category_df_upd.show()"
      ],
      "metadata": {
        "colab": {
          "base_uri": "https://localhost:8080/"
        },
        "id": "XRSc9L8PgBr-",
        "outputId": "d8b70ba9-cbdc-4812-fffa-33ae3216ec7e"
      },
      "execution_count": null,
      "outputs": [
        {
          "output_type": "stream",
          "name": "stdout",
          "text": [
            "+-----------+-----------+--------------------+\n",
            "|category_id|       name|         last_update|\n",
            "+-----------+-----------+--------------------+\n",
            "|          1|     Action|      2/15/2006 9:46|\n",
            "|          2|  Animation|      2/15/2006 9:46|\n",
            "|          3|   Children|      2/15/2006 9:46|\n",
            "|          4|   Classics|      2/15/2006 9:46|\n",
            "|          5|     Comedy|      2/15/2006 9:46|\n",
            "|          6|Documentary|      2/15/2006 9:46|\n",
            "|          7|      Drama|      2/15/2006 9:46|\n",
            "|          8|     Family|      2/15/2006 9:46|\n",
            "|          9|    Foreign|      2/15/2006 9:46|\n",
            "|         10|      Games|      2/15/2006 9:46|\n",
            "|         11|     Horror|      2/15/2006 9:46|\n",
            "|         12|      Music|      2/15/2006 9:46|\n",
            "|         13|        New|      2/15/2006 9:46|\n",
            "|         14|     Sci-Fi|      2/15/2006 9:46|\n",
            "|         15|     Sports|      2/15/2006 9:46|\n",
            "|         16|     Travel|      2/15/2006 9:46|\n",
            "|       NULL|Documentary|2024-01-27 09:52:...|\n",
            "+-----------+-----------+--------------------+\n",
            "\n"
          ]
        }
      ]
    },
    {
      "cell_type": "code",
      "source": [
        "# 12. Combine first_name and last_name from the customer table to become full_name.\n",
        "customer_full_name = customer_df.withColumn('full_name', F.concat(F.col('first_name'), F.lit(' '), F.col('last_name')))\n",
        "customer_full_name.select('first_name', 'last_name', 'full_name').show()"
      ],
      "metadata": {
        "colab": {
          "base_uri": "https://localhost:8080/"
        },
        "id": "pdJ1oArkhn25",
        "outputId": "0bf58581-b376-4eb6-e27a-e7e8876d6d3b"
      },
      "execution_count": null,
      "outputs": [
        {
          "output_type": "stream",
          "name": "stdout",
          "text": [
            "+----------+---------+----------------+\n",
            "|first_name|last_name|       full_name|\n",
            "+----------+---------+----------------+\n",
            "|     Jared|      Ely|       Jared Ely|\n",
            "|      Mary|    Smith|      Mary Smith|\n",
            "|  Patricia|  Johnson|Patricia Johnson|\n",
            "|     Linda| Williams|  Linda Williams|\n",
            "|   Barbara|    Jones|   Barbara Jones|\n",
            "| Elizabeth|    Brown| Elizabeth Brown|\n",
            "|  Jennifer|    Davis|  Jennifer Davis|\n",
            "|     Maria|   Miller|    Maria Miller|\n",
            "|     Susan|   Wilson|    Susan Wilson|\n",
            "|  Margaret|    Moore|  Margaret Moore|\n",
            "|   Dorothy|   Taylor|  Dorothy Taylor|\n",
            "|      Lisa| Anderson|   Lisa Anderson|\n",
            "|     Nancy|   Thomas|    Nancy Thomas|\n",
            "|     Karen|  Jackson|   Karen Jackson|\n",
            "|     Betty|    White|     Betty White|\n",
            "|     Helen|   Harris|    Helen Harris|\n",
            "|    Sandra|   Martin|   Sandra Martin|\n",
            "|     Donna| Thompson|  Donna Thompson|\n",
            "|     Carol|   Garcia|    Carol Garcia|\n",
            "|      Ruth| Martinez|   Ruth Martinez|\n",
            "+----------+---------+----------------+\n",
            "only showing top 20 rows\n",
            "\n"
          ]
        }
      ]
    },
    {
      "cell_type": "code",
      "source": [
        "# 13. Show how many inventory items are available at each store.\n",
        "inventory_count_per_store = inventory_df.groupBy('store_id').count()\n",
        "inventory_count_per_store.show()"
      ],
      "metadata": {
        "colab": {
          "base_uri": "https://localhost:8080/"
        },
        "id": "k3gvFFZeh3Eq",
        "outputId": "611920c9-6fa2-486f-d839-42b8e3ac4f49"
      },
      "execution_count": null,
      "outputs": [
        {
          "output_type": "stream",
          "name": "stdout",
          "text": [
            "+--------+-----+\n",
            "|store_id|count|\n",
            "+--------+-----+\n",
            "|       1| 2270|\n",
            "|       2| 2311|\n",
            "+--------+-----+\n",
            "\n"
          ]
        }
      ]
    },
    {
      "cell_type": "code",
      "source": [
        "\"\"\"\n",
        "14. What is the total amount paid by each customer for all their rentals?\n",
        "For each customer print their name and the total amount paid.\n",
        "\"\"\"\n",
        "\n",
        "# Group by customer_id and sum the amount paid\n",
        "total_amount_paid_per_customer = payment_df.groupBy('customer_id') \\\n",
        "    .agg(F.sum('amount').alias('total_amount_paid'))\n",
        "\n",
        "# Join with customer_df to get customer names\n",
        "total_amount_paid_per_customer = total_amount_paid_per_customer.join(customer_df,\n",
        "                                                                     'customer_id',\n",
        "                                                                     'inner') \\\n",
        "    .select('first_name', 'last_name', 'total_amount_paid')\n",
        "\n",
        "# Order the result by total_amount_paid in descending order\n",
        "total_amount_paid_per_customer = total_amount_paid_per_customer.orderBy(F.desc('total_amount_paid'))\n",
        "\n",
        "# Show the result\n",
        "total_amount_paid_per_customer.show()"
      ],
      "metadata": {
        "colab": {
          "base_uri": "https://localhost:8080/"
        },
        "id": "JVwx_GvOh_IL",
        "outputId": "59bcd844-e10a-4aab-8722-160c7ba15d41"
      },
      "execution_count": null,
      "outputs": [
        {
          "output_type": "stream",
          "name": "stdout",
          "text": [
            "+----------+---------+------------------+\n",
            "|first_name|last_name| total_amount_paid|\n",
            "+----------+---------+------------------+\n",
            "|   Eleanor|     Hunt| 211.5500000000001|\n",
            "|      Karl|     Seal|208.58000000000013|\n",
            "|    Marion|   Snyder|194.61000000000007|\n",
            "|    Rhonda|  Kennedy|191.62000000000006|\n",
            "|     Clara|     Shaw|189.60000000000005|\n",
            "|     Tommy|  Collazo|183.63000000000002|\n",
            "|       Ana|  Bradley|167.67000000000002|\n",
            "|    Curtis|     Irby|            167.62|\n",
            "|    Marcia|     Dean|166.61000000000004|\n",
            "|      Mike|      Way|            162.67|\n",
            "|    Arnold|   Havens|            161.68|\n",
            "|    Wesley|     Bull|            158.65|\n",
            "|    Gordon|   Allard|            157.69|\n",
            "|     Louis|    Leone|            156.66|\n",
            "|      Lena|   Jensen|             154.7|\n",
            "|       Tim|     Cary|            154.66|\n",
            "|    Warren|  Sherrod|152.69000000000003|\n",
            "|     Steve|Mackenzie|            152.68|\n",
            "|  Brittany|    Riley|            151.73|\n",
            "|       Guy| Brownlee|            151.69|\n",
            "+----------+---------+------------------+\n",
            "only showing top 20 rows\n",
            "\n"
          ]
        }
      ]
    },
    {
      "cell_type": "code",
      "source": [
        "# 15. What payments have amounts between 3 USD and 5 USD?\n",
        "payments_between_3_and_5 = payment_df.filter((payment_df.amount >= 3) & (payment_df.amount <= 5))\n",
        "payments_between_3_and_5.select('customer_id', 'payment_id', 'amount').orderBy('amount').show()"
      ],
      "metadata": {
        "id": "vWxXtRViM87p",
        "colab": {
          "base_uri": "https://localhost:8080/"
        },
        "outputId": "d714083d-39df-4f70-d518-ad4907c0bf4e"
      },
      "execution_count": null,
      "outputs": [
        {
          "output_type": "stream",
          "name": "stdout",
          "text": [
            "+-----------+----------+------+\n",
            "|customer_id|payment_id|amount|\n",
            "+-----------+----------+------+\n",
            "|        269|     31919|  3.98|\n",
            "|        361|     31945|  3.98|\n",
            "|        448|     31965|  3.98|\n",
            "|        457|     31969|  3.98|\n",
            "|         15|     32014|  3.98|\n",
            "|         43|     32025|  3.98|\n",
            "|        175|     32065|  3.98|\n",
            "|        228|     32088|  3.98|\n",
            "|        364|     17601|  3.99|\n",
            "|        431|     17849|  3.99|\n",
            "|        371|     17623|  3.99|\n",
            "|        344|     17519|  3.99|\n",
            "|        372|     17627|  3.99|\n",
            "|        400|     17741|  3.99|\n",
            "|        403|     17748|  3.99|\n",
            "|        350|     17541|  3.99|\n",
            "|        405|     17759|  3.99|\n",
            "|        377|     17639|  3.99|\n",
            "|        406|     17763|  3.99|\n",
            "|        380|     17653|  3.99|\n",
            "+-----------+----------+------+\n",
            "only showing top 20 rows\n",
            "\n"
          ]
        }
      ]
    }
  ]
}